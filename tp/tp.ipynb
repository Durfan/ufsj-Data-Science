{
 "cells": [
  {
   "cell_type": "code",
   "execution_count": 1,
   "metadata": {},
   "outputs": [],
   "source": [
    "import pandas as pd\n",
    "import numpy as np\n",
    "import json, csv, re\n",
    "import matplotlib.pyplot as plt\n",
    "import seaborn as sns\n",
    "import joblib\n",
    "import nltk\n",
    "import warnings\n",
    "\n",
    "from tqdm import tqdm\n",
    "from sklearn.preprocessing import MultiLabelBinarizer\n",
    "from sklearn.feature_extraction.text import TfidfVectorizer\n",
    "from sklearn.model_selection import train_test_split\n",
    "\n",
    "from sklearn.linear_model import LogisticRegression\n",
    "from sklearn.multiclass import OneVsRestClassifier\n",
    "from sklearn.metrics import f1_score\n",
    "\n",
    "pd.set_option('display.max_colwidth', 300)\n",
    "sns.set_style('darkgrid')\n",
    "tqdm.pandas()\n",
    "%matplotlib inline"
   ]
  },
  {
   "cell_type": "markdown",
   "metadata": {},
   "source": [
    "# Introdução\n",
    "\n",
    "Classificar e reconhecer certos tipos de dados vem sendo exigida em diversas aplicações modernas e, principalmente, onde o Big Data é usado para tomar todos os tipos de decisões. As tarefas de classificação também permitem que pesquisadores consigam lidar com a grande quantidade de dados as quais têm acesso.\n",
    "\n",
    "## Diferentes formas de classificar\n",
    "\n",
    "Classificação é simplesmente agrupar as coisas de acordo com características e atributos (features) semelhantes. Dentro do Aprendizado de Máquina, ela não é diferente. A classificação faz parte de uma subárea chamada Aprendizado de Máquina Supervisionado, em que dados são agrupados com base em características predeterminadas.\n",
    "\n",
    "Um problema de classificação requer que os dados sejam classificados em duas ou mais classes. Se o problema possui duas classes, ele é chamado de problema de classificação binário, e se possui mais de duas classes, é chamado de problema de classificação multi-class (multiclasse). Um exemplo de um problema de classificação binário seria você escolher comprar ou não um item da livraria (1 para “livro comprado” e 0 para “livro não comprado”).\n",
    "\n",
    "O foco deste trabalho está em um variação da classificação multi-class: a classificação multi-label, em que um dado pode pertencer a várias classes diferentes.\n",
    "\n",
    "## Classification problem\n",
    "\n",
    "> A classification problem is when the output variable is a category, such as “red” or “blue” or “disease” and “no disease”. A classification model attempts to draw some conclusion from observed values. Given one or more inputs a classification model will try to predict the value of one or more outcomes.\n",
    "\n",
    "## O que é multi-label classification?\n",
    "\n",
    "> In machine learning, multi-label classification and the strongly related problem of multi-output classification are variants of the classification problem where multiple labels may be assigned to each instance. Multi-label classification is a generalization of multiclass classification, which is the single-label problem of categorizing instances into precisely one of more than two classes; in the multi-label problem there is no constraint on how many of the classes the instance can be assigned to.\n",
    "\n",
    "### Exemplificando\n",
    "\n",
    "| `X` | Binary | Multi-class | Multi-label |\n",
    "|:--:|:--:|:--:|:--:|\n",
    "| `X₁` | `t₁` | `t₂` | `[t₂,t₅]` |\n",
    "| `X₂` | `t₂` | `t₃` | `[t₁,t₂,t₃,t₄]` |\n",
    "| `X₃` | `t₁` | `t₄` | `[t₃]` |\n",
    "| `X₄` | `t₂` | `t₁` | `[t₂,t₄]` |\n",
    "| `X₅` | `t₁` | `t₃` | `[t₁t₃,t₄]` |\n",
    "\n",
    "## Como resolver?\n",
    "\n",
    "Podemos aplicar algoritmos de classificação tradicionais para resolver esse problema? Não, esses algoritmos esperam uma única classe para cada entrada, quando, em vez disso, temos várias classes.\n",
    "\n",
    "Uma das maneiras de se resolver isso é construindo um sistema de recomendação. Uma abordagem simples é construindo um modelo que possa prever automaticamente classes.\n",
    "\n",
    "### Referência\n",
    "\n",
    "[https://insightlab.ufc.br/aprenda-a-estratificar-dados-multi-label-com-scikit-multilearn](https://insightlab.ufc.br/aprenda-a-estratificar-dados-multi-label-com-scikit-multilearn)"
   ]
  },
  {
   "cell_type": "markdown",
   "metadata": {},
   "source": [
    "# Dataframe\n",
    "\n",
    "Para exemplificar nosso metodo, vamos construir um modelo que possa prever o gênero de um filme usando apenas os detalhes do plot.\n",
    "\n",
    "Nosso dataset é contrindo a partir dedois arquivos:\n",
    "\n",
    "- movie.metadata.tsv: Metadados para 81.741 filmes.\n",
    "- plot_summaries.txt: Resumos de plots de 42.306 filmes extraídos da Wikipedia em inglês. Cada linha contém o ID do filme da Wikipedia (que indexa em movie.metadata.tsv) seguido pelo resumo do plot."
   ]
  },
  {
   "cell_type": "code",
   "execution_count": 2,
   "metadata": {},
   "outputs": [
    {
     "name": "stdout",
     "output_type": "stream",
     "text": [
      "CPU times: user 1.35 s, sys: 78.2 ms, total: 1.42 s\n",
      "Wall time: 1.45 s\n"
     ]
    },
    {
     "data": {
      "text/html": [
       "<div>\n",
       "<style scoped>\n",
       "    .dataframe tbody tr th:only-of-type {\n",
       "        vertical-align: middle;\n",
       "    }\n",
       "\n",
       "    .dataframe tbody tr th {\n",
       "        vertical-align: top;\n",
       "    }\n",
       "\n",
       "    .dataframe thead th {\n",
       "        text-align: right;\n",
       "    }\n",
       "</style>\n",
       "<table border=\"1\" class=\"dataframe\">\n",
       "  <thead>\n",
       "    <tr style=\"text-align: right;\">\n",
       "      <th></th>\n",
       "      <th>id_wiki</th>\n",
       "      <th>id_freebase</th>\n",
       "      <th>title</th>\n",
       "      <th>release date</th>\n",
       "      <th>box office revenue</th>\n",
       "      <th>runtime</th>\n",
       "      <th>languages</th>\n",
       "      <th>countries</th>\n",
       "      <th>genres</th>\n",
       "    </tr>\n",
       "  </thead>\n",
       "  <tbody>\n",
       "    <tr>\n",
       "      <th>0</th>\n",
       "      <td>975900</td>\n",
       "      <td>/m/03vyhn</td>\n",
       "      <td>Ghosts of Mars</td>\n",
       "      <td>2001-08-24</td>\n",
       "      <td>14010832.0</td>\n",
       "      <td>98.0</td>\n",
       "      <td>[English Language]</td>\n",
       "      <td>[United States of America]</td>\n",
       "      <td>[Thriller, Science Fiction, Horror, Adventure, Supernatural, Action, Space western]</td>\n",
       "    </tr>\n",
       "    <tr>\n",
       "      <th>1</th>\n",
       "      <td>3196793</td>\n",
       "      <td>/m/08yl5d</td>\n",
       "      <td>Getting Away with Murder: The JonBenét Ramsey Mystery</td>\n",
       "      <td>2000-02-16</td>\n",
       "      <td>NaN</td>\n",
       "      <td>95.0</td>\n",
       "      <td>[English Language]</td>\n",
       "      <td>[United States of America]</td>\n",
       "      <td>[Mystery, Biographical film, Drama, Crime Drama]</td>\n",
       "    </tr>\n",
       "    <tr>\n",
       "      <th>2</th>\n",
       "      <td>28463795</td>\n",
       "      <td>/m/0crgdbh</td>\n",
       "      <td>Brun bitter</td>\n",
       "      <td>1988</td>\n",
       "      <td>NaN</td>\n",
       "      <td>83.0</td>\n",
       "      <td>[Norwegian Language]</td>\n",
       "      <td>[Norway]</td>\n",
       "      <td>[Crime Fiction, Drama]</td>\n",
       "    </tr>\n",
       "    <tr>\n",
       "      <th>3</th>\n",
       "      <td>9363483</td>\n",
       "      <td>/m/0285_cd</td>\n",
       "      <td>White Of The Eye</td>\n",
       "      <td>1987</td>\n",
       "      <td>NaN</td>\n",
       "      <td>110.0</td>\n",
       "      <td>[English Language]</td>\n",
       "      <td>[United Kingdom]</td>\n",
       "      <td>[Thriller, Erotic thriller, Psychological thriller]</td>\n",
       "    </tr>\n",
       "    <tr>\n",
       "      <th>4</th>\n",
       "      <td>261236</td>\n",
       "      <td>/m/01mrr1</td>\n",
       "      <td>A Woman in Flames</td>\n",
       "      <td>1983</td>\n",
       "      <td>NaN</td>\n",
       "      <td>106.0</td>\n",
       "      <td>[German Language]</td>\n",
       "      <td>[Germany]</td>\n",
       "      <td>[Drama]</td>\n",
       "    </tr>\n",
       "  </tbody>\n",
       "</table>\n",
       "</div>"
      ],
      "text/plain": [
       "    id_wiki id_freebase  \\\n",
       "0    975900   /m/03vyhn   \n",
       "1   3196793   /m/08yl5d   \n",
       "2  28463795  /m/0crgdbh   \n",
       "3   9363483  /m/0285_cd   \n",
       "4    261236   /m/01mrr1   \n",
       "\n",
       "                                                   title release date  \\\n",
       "0                                         Ghosts of Mars   2001-08-24   \n",
       "1  Getting Away with Murder: The JonBenét Ramsey Mystery   2000-02-16   \n",
       "2                                            Brun bitter         1988   \n",
       "3                                       White Of The Eye         1987   \n",
       "4                                      A Woman in Flames         1983   \n",
       "\n",
       "   box office revenue  runtime             languages  \\\n",
       "0          14010832.0     98.0    [English Language]   \n",
       "1                 NaN     95.0    [English Language]   \n",
       "2                 NaN     83.0  [Norwegian Language]   \n",
       "3                 NaN    110.0    [English Language]   \n",
       "4                 NaN    106.0     [German Language]   \n",
       "\n",
       "                    countries  \\\n",
       "0  [United States of America]   \n",
       "1  [United States of America]   \n",
       "2                    [Norway]   \n",
       "3            [United Kingdom]   \n",
       "4                   [Germany]   \n",
       "\n",
       "                                                                                genres  \n",
       "0  [Thriller, Science Fiction, Horror, Adventure, Supernatural, Action, Space western]  \n",
       "1                                     [Mystery, Biographical film, Drama, Crime Drama]  \n",
       "2                                                               [Crime Fiction, Drama]  \n",
       "3                                  [Thriller, Erotic thriller, Psychological thriller]  \n",
       "4                                                                              [Drama]  "
      ]
     },
     "execution_count": 2,
     "metadata": {},
     "output_type": "execute_result"
    }
   ],
   "source": [
    "%%time\n",
    "\n",
    "def to_list(entry):\n",
    "  return list(json.loads(entry).values())\n",
    "\n",
    "meta = pd.read_csv(\"./data/movie.metadata.tsv\", sep = '\\t', header = None)\n",
    "meta.columns = [\n",
    "    'id_wiki', 'id_freebase',\n",
    "    \"title\", 'release date',\n",
    "    'box office revenue', 'runtime',\n",
    "    'languages', 'countries', 'genres']\n",
    "\n",
    "meta['languages'] = meta['languages'].apply(to_list)\n",
    "meta['countries'] = meta['countries'].apply(to_list)\n",
    "meta['genres'] = meta['genres'].apply(to_list)\n",
    "\n",
    "meta['languages'] = meta['languages'].apply(lambda x: np.nan if len(x)==0 else x)\n",
    "meta['countries'] = meta['countries'].apply(lambda x: np.nan if len(x)==0 else x)\n",
    "meta['genres'] = meta['genres'].apply(lambda x: np.nan if len(x)==0 else x)\n",
    "meta.head()"
   ]
  },
  {
   "cell_type": "code",
   "execution_count": 3,
   "metadata": {},
   "outputs": [
    {
     "name": "stderr",
     "output_type": "stream",
     "text": [
      "42303it [00:01, 23935.46it/s]\n",
      "100%|██████████| 42303/42303 [00:00<00:00, 1042323.73it/s]\n"
     ]
    },
    {
     "data": {
      "text/html": [
       "<div>\n",
       "<style scoped>\n",
       "    .dataframe tbody tr th:only-of-type {\n",
       "        vertical-align: middle;\n",
       "    }\n",
       "\n",
       "    .dataframe tbody tr th {\n",
       "        vertical-align: top;\n",
       "    }\n",
       "\n",
       "    .dataframe thead th {\n",
       "        text-align: right;\n",
       "    }\n",
       "</style>\n",
       "<table border=\"1\" class=\"dataframe\">\n",
       "  <thead>\n",
       "    <tr style=\"text-align: right;\">\n",
       "      <th></th>\n",
       "      <th>id_wiki</th>\n",
       "      <th>plot</th>\n",
       "    </tr>\n",
       "  </thead>\n",
       "  <tbody>\n",
       "    <tr>\n",
       "      <th>0</th>\n",
       "      <td>23890098</td>\n",
       "      <td>Shlykov, a hard-working taxi driver and Lyosha, a saxophonist, develop a bizarre love-hate relationship, and despite their prejudices, realize they aren't so different after all.</td>\n",
       "    </tr>\n",
       "    <tr>\n",
       "      <th>1</th>\n",
       "      <td>31186339</td>\n",
       "      <td>The nation of Panem consists of a wealthy Capitol and twelve poorer districts. As punishment for a past rebellion, each district must provide a boy and girl  between the ages of 12 and 18 selected by lottery  for the annual Hunger Games. The tributes must fight to the death in an arena; the sole...</td>\n",
       "    </tr>\n",
       "    <tr>\n",
       "      <th>2</th>\n",
       "      <td>20663735</td>\n",
       "      <td>Poovalli Induchoodan  is sentenced for six years prison life for murdering his classmate. Induchoodan, the only son of Justice Maranchery Karunakara Menon  was framed in the case by Manapally Madhavan Nambiar  and his crony DYSP Sankaranarayanan  to take revenge on idealist judge Menon who had e...</td>\n",
       "    </tr>\n",
       "    <tr>\n",
       "      <th>3</th>\n",
       "      <td>2231378</td>\n",
       "      <td>The Lemon Drop Kid , a New York City swindler, is illegally touting horses at a Florida racetrack. After several successful hustles, the Kid comes across a beautiful, but gullible, woman intending to bet a lot of money. The Kid convinces her to switch her bet, employing a prefabricated con. Unfo...</td>\n",
       "    </tr>\n",
       "    <tr>\n",
       "      <th>4</th>\n",
       "      <td>595909</td>\n",
       "      <td>Seventh-day Adventist Church pastor Michael Chamberlain, his wife Lindy, their two sons, and their nine-week-old daughter Azaria are on a camping holiday in the Outback. With the baby sleeping in their tent, the family is enjoying a barbecue with their fellow campers when a cry is heard. Lindy r...</td>\n",
       "    </tr>\n",
       "  </tbody>\n",
       "</table>\n",
       "</div>"
      ],
      "text/plain": [
       "    id_wiki  \\\n",
       "0  23890098   \n",
       "1  31186339   \n",
       "2  20663735   \n",
       "3   2231378   \n",
       "4    595909   \n",
       "\n",
       "                                                                                                                                                                                                                                                                                                          plot  \n",
       "0                                                                                                                           Shlykov, a hard-working taxi driver and Lyosha, a saxophonist, develop a bizarre love-hate relationship, and despite their prejudices, realize they aren't so different after all.  \n",
       "1  The nation of Panem consists of a wealthy Capitol and twelve poorer districts. As punishment for a past rebellion, each district must provide a boy and girl  between the ages of 12 and 18 selected by lottery  for the annual Hunger Games. The tributes must fight to the death in an arena; the sole...  \n",
       "2  Poovalli Induchoodan  is sentenced for six years prison life for murdering his classmate. Induchoodan, the only son of Justice Maranchery Karunakara Menon  was framed in the case by Manapally Madhavan Nambiar  and his crony DYSP Sankaranarayanan  to take revenge on idealist judge Menon who had e...  \n",
       "3  The Lemon Drop Kid , a New York City swindler, is illegally touting horses at a Florida racetrack. After several successful hustles, the Kid comes across a beautiful, but gullible, woman intending to bet a lot of money. The Kid convinces her to switch her bet, employing a prefabricated con. Unfo...  \n",
       "4  Seventh-day Adventist Church pastor Michael Chamberlain, his wife Lindy, their two sons, and their nine-week-old daughter Azaria are on a camping holiday in the Outback. With the baby sleeping in their tent, the family is enjoying a barbecue with their fellow campers when a cry is heard. Lindy r...  "
      ]
     },
     "execution_count": 3,
     "metadata": {},
     "output_type": "execute_result"
    }
   ],
   "source": [
    "plots = []\n",
    "with open(\"./data/plot_summaries.txt\", 'r') as f:\n",
    "  reader = csv.reader(f, dialect='excel-tab')\n",
    "  for row in tqdm(reader): # tqdm, A Fast, Extensible Progress Bar for Python and CLI\n",
    "      plots.append(row)\n",
    "\n",
    "id_wiki = []\n",
    "plot = []\n",
    "\n",
    "for i in tqdm(plots):\n",
    "  id_wiki.append(i[0])\n",
    "  plot.append(i[1])\n",
    "\n",
    "plots = pd.DataFrame({'id_wiki': id_wiki, 'plot': plot})\n",
    "plots.head()"
   ]
  },
  {
   "cell_type": "code",
   "execution_count": 4,
   "metadata": {},
   "outputs": [
    {
     "data": {
      "text/html": [
       "<div>\n",
       "<style scoped>\n",
       "    .dataframe tbody tr th:only-of-type {\n",
       "        vertical-align: middle;\n",
       "    }\n",
       "\n",
       "    .dataframe tbody tr th {\n",
       "        vertical-align: top;\n",
       "    }\n",
       "\n",
       "    .dataframe thead th {\n",
       "        text-align: right;\n",
       "    }\n",
       "</style>\n",
       "<table border=\"1\" class=\"dataframe\">\n",
       "  <thead>\n",
       "    <tr style=\"text-align: right;\">\n",
       "      <th></th>\n",
       "      <th>id_wiki</th>\n",
       "      <th>title</th>\n",
       "      <th>plot</th>\n",
       "      <th>genres</th>\n",
       "    </tr>\n",
       "  </thead>\n",
       "  <tbody>\n",
       "    <tr>\n",
       "      <th>0</th>\n",
       "      <td>23890098</td>\n",
       "      <td>Taxi Blues</td>\n",
       "      <td>Shlykov, a hard-working taxi driver and Lyosha, a saxophonist, develop a bizarre love-hate relationship, and despite their prejudices, realize they aren't so different after all.</td>\n",
       "      <td>[Drama, World cinema]</td>\n",
       "    </tr>\n",
       "    <tr>\n",
       "      <th>1</th>\n",
       "      <td>31186339</td>\n",
       "      <td>The Hunger Games</td>\n",
       "      <td>The nation of Panem consists of a wealthy Capitol and twelve poorer districts. As punishment for a past rebellion, each district must provide a boy and girl  between the ages of 12 and 18 selected by lottery  for the annual Hunger Games. The tributes must fight to the death in an arena; the sole...</td>\n",
       "      <td>[Action/Adventure, Science Fiction, Action, Drama]</td>\n",
       "    </tr>\n",
       "    <tr>\n",
       "      <th>2</th>\n",
       "      <td>20663735</td>\n",
       "      <td>Narasimham</td>\n",
       "      <td>Poovalli Induchoodan  is sentenced for six years prison life for murdering his classmate. Induchoodan, the only son of Justice Maranchery Karunakara Menon  was framed in the case by Manapally Madhavan Nambiar  and his crony DYSP Sankaranarayanan  to take revenge on idealist judge Menon who had e...</td>\n",
       "      <td>[Musical, Action, Drama, Bollywood]</td>\n",
       "    </tr>\n",
       "    <tr>\n",
       "      <th>3</th>\n",
       "      <td>2231378</td>\n",
       "      <td>The Lemon Drop Kid</td>\n",
       "      <td>The Lemon Drop Kid , a New York City swindler, is illegally touting horses at a Florida racetrack. After several successful hustles, the Kid comes across a beautiful, but gullible, woman intending to bet a lot of money. The Kid convinces her to switch her bet, employing a prefabricated con. Unfo...</td>\n",
       "      <td>[Screwball comedy, Comedy]</td>\n",
       "    </tr>\n",
       "    <tr>\n",
       "      <th>4</th>\n",
       "      <td>595909</td>\n",
       "      <td>A Cry in the Dark</td>\n",
       "      <td>Seventh-day Adventist Church pastor Michael Chamberlain, his wife Lindy, their two sons, and their nine-week-old daughter Azaria are on a camping holiday in the Outback. With the baby sleeping in their tent, the family is enjoying a barbecue with their fellow campers when a cry is heard. Lindy r...</td>\n",
       "      <td>[Crime Fiction, Drama, Docudrama, World cinema, Courtroom Drama]</td>\n",
       "    </tr>\n",
       "  </tbody>\n",
       "</table>\n",
       "</div>"
      ],
      "text/plain": [
       "    id_wiki               title  \\\n",
       "0  23890098          Taxi Blues   \n",
       "1  31186339    The Hunger Games   \n",
       "2  20663735          Narasimham   \n",
       "3   2231378  The Lemon Drop Kid   \n",
       "4    595909   A Cry in the Dark   \n",
       "\n",
       "                                                                                                                                                                                                                                                                                                          plot  \\\n",
       "0                                                                                                                           Shlykov, a hard-working taxi driver and Lyosha, a saxophonist, develop a bizarre love-hate relationship, and despite their prejudices, realize they aren't so different after all.   \n",
       "1  The nation of Panem consists of a wealthy Capitol and twelve poorer districts. As punishment for a past rebellion, each district must provide a boy and girl  between the ages of 12 and 18 selected by lottery  for the annual Hunger Games. The tributes must fight to the death in an arena; the sole...   \n",
       "2  Poovalli Induchoodan  is sentenced for six years prison life for murdering his classmate. Induchoodan, the only son of Justice Maranchery Karunakara Menon  was framed in the case by Manapally Madhavan Nambiar  and his crony DYSP Sankaranarayanan  to take revenge on idealist judge Menon who had e...   \n",
       "3  The Lemon Drop Kid , a New York City swindler, is illegally touting horses at a Florida racetrack. After several successful hustles, the Kid comes across a beautiful, but gullible, woman intending to bet a lot of money. The Kid convinces her to switch her bet, employing a prefabricated con. Unfo...   \n",
       "4  Seventh-day Adventist Church pastor Michael Chamberlain, his wife Lindy, their two sons, and their nine-week-old daughter Azaria are on a camping holiday in the Outback. With the baby sleeping in their tent, the family is enjoying a barbecue with their fellow campers when a cry is heard. Lindy r...   \n",
       "\n",
       "                                                             genres  \n",
       "0                                             [Drama, World cinema]  \n",
       "1                [Action/Adventure, Science Fiction, Action, Drama]  \n",
       "2                               [Musical, Action, Drama, Bollywood]  \n",
       "3                                        [Screwball comedy, Comedy]  \n",
       "4  [Crime Fiction, Drama, Docudrama, World cinema, Courtroom Drama]  "
      ]
     },
     "execution_count": 4,
     "metadata": {},
     "output_type": "execute_result"
    }
   ],
   "source": [
    "meta['id_wiki'] = meta['id_wiki'].astype(str)\n",
    "cols = ['id_wiki','title','plot','genres']\n",
    "\n",
    "df = pd.merge(plots, meta[['id_wiki', 'title', 'genres']], on = 'id_wiki')\n",
    "df.drop(df.loc[df['genres'].isna()].index, inplace=True)\n",
    "df = df[cols]\n",
    "df.head()"
   ]
  },
  {
   "cell_type": "code",
   "execution_count": 5,
   "metadata": {},
   "outputs": [
    {
     "name": "stdout",
     "output_type": "stream",
     "text": [
      "Generos Total: 363\n"
     ]
    }
   ],
   "source": [
    "genres_flat = pd.Series([item for sublist in df.genres for item in sublist])\n",
    "df_genres = genres_flat.groupby(genres_flat).size().rename_axis('Genre').reset_index(name='Count')\n",
    "df_genres.sort_values('Count', ascending=False, ignore_index=True, inplace=True)\n",
    "print('Generos Total: {}'.format(df_genres.shape[0]))\n",
    "#df_genres.head(10)"
   ]
  },
  {
   "cell_type": "code",
   "execution_count": 6,
   "metadata": {},
   "outputs": [
    {
     "data": {
      "image/png": "[encoded data removed]",
      "text/plain": [
       "<Figure size 864x432 with 1 Axes>"
      ]
     },
     "metadata": {
      "needs_background": "light"
     },
     "output_type": "display_data"
    }
   ],
   "source": [
    "plt.figure(figsize=(12,6))\n",
    "ax = sns.barplot(data=df_genres[:15], x='Count', y='Genre', palette='tab10')\n",
    "ax.set(xlabel=None, ylabel=None)\n",
    "ax.bar_label(ax.containers[0], padding=3)\n",
    "plt.savefig('./plots/generos.eps', dpi=300, bbox_inches='tight', pad_inches=0.0)\n",
    "plt.show()"
   ]
  },
  {
   "cell_type": "markdown",
   "metadata": {},
   "source": [
    "# Pré-Processamento"
   ]
  },
  {
   "cell_type": "markdown",
   "metadata": {},
   "source": [
    "## Normalização\n",
    "\n",
    "> Normalization is the process of scaling individual samples to have unit norm."
   ]
  },
  {
   "cell_type": "code",
   "execution_count": 7,
   "metadata": {},
   "outputs": [
    {
     "name": "stderr",
     "output_type": "stream",
     "text": [
      "100%|██████████| 41793/41793 [00:07<00:00, 5829.03it/s]\n"
     ]
    },
    {
     "name": "stdout",
     "output_type": "stream",
     "text": [
      "CPU times: user 6.97 s, sys: 155 ms, total: 7.12 s\n",
      "Wall time: 7.19 s\n"
     ]
    },
    {
     "data": {
      "text/html": [
       "<div>\n",
       "<style scoped>\n",
       "    .dataframe tbody tr th:only-of-type {\n",
       "        vertical-align: middle;\n",
       "    }\n",
       "\n",
       "    .dataframe tbody tr th {\n",
       "        vertical-align: top;\n",
       "    }\n",
       "\n",
       "    .dataframe thead th {\n",
       "        text-align: right;\n",
       "    }\n",
       "</style>\n",
       "<table border=\"1\" class=\"dataframe\">\n",
       "  <thead>\n",
       "    <tr style=\"text-align: right;\">\n",
       "      <th></th>\n",
       "      <th>id_wiki</th>\n",
       "      <th>title</th>\n",
       "      <th>plot</th>\n",
       "      <th>plot_pre</th>\n",
       "      <th>genres</th>\n",
       "    </tr>\n",
       "  </thead>\n",
       "  <tbody>\n",
       "    <tr>\n",
       "      <th>0</th>\n",
       "      <td>23890098</td>\n",
       "      <td>Taxi Blues</td>\n",
       "      <td>Shlykov, a hard-working taxi driver and Lyosha, a saxophonist, develop a bizarre love-hate relationship, and despite their prejudices, realize they aren't so different after all.</td>\n",
       "      <td>shlykov a hard working taxi driver and lyosha a saxophonist develop a bizarre love hate relationship and despite their prejudices realize they arent so different after all</td>\n",
       "      <td>[Drama, World cinema]</td>\n",
       "    </tr>\n",
       "    <tr>\n",
       "      <th>1</th>\n",
       "      <td>31186339</td>\n",
       "      <td>The Hunger Games</td>\n",
       "      <td>The nation of Panem consists of a wealthy Capitol and twelve poorer districts. As punishment for a past rebellion, each district must provide a boy and girl  between the ages of 12 and 18 selected by lottery  for the annual Hunger Games. The tributes must fight to the death in an arena; the sole...</td>\n",
       "      <td>the nation of panem consists of a wealthy capitol and twelve poorer districts as punishment for a past rebellion each district must provide a boy and girl between the ages of and selected by lottery for the annual hunger games the tributes must fight to the death in an arena the sole survivor is...</td>\n",
       "      <td>[Action/Adventure, Science Fiction, Action, Drama]</td>\n",
       "    </tr>\n",
       "    <tr>\n",
       "      <th>2</th>\n",
       "      <td>20663735</td>\n",
       "      <td>Narasimham</td>\n",
       "      <td>Poovalli Induchoodan  is sentenced for six years prison life for murdering his classmate. Induchoodan, the only son of Justice Maranchery Karunakara Menon  was framed in the case by Manapally Madhavan Nambiar  and his crony DYSP Sankaranarayanan  to take revenge on idealist judge Menon who had e...</td>\n",
       "      <td>poovalli induchoodan is sentenced for six years prison life for murdering his classmate induchoodan the only son of justice maranchery karunakara menon was framed in the case by manapally madhavan nambiar and his crony dysp sankaranarayanan to take revenge on idealist judge menon who had earlier...</td>\n",
       "      <td>[Musical, Action, Drama, Bollywood]</td>\n",
       "    </tr>\n",
       "    <tr>\n",
       "      <th>3</th>\n",
       "      <td>2231378</td>\n",
       "      <td>The Lemon Drop Kid</td>\n",
       "      <td>The Lemon Drop Kid , a New York City swindler, is illegally touting horses at a Florida racetrack. After several successful hustles, the Kid comes across a beautiful, but gullible, woman intending to bet a lot of money. The Kid convinces her to switch her bet, employing a prefabricated con. Unfo...</td>\n",
       "      <td>the lemon drop kid a new york city swindler is illegally touting horses at a florida racetrack after several successful hustles the kid comes across a beautiful but gullible woman intending to bet a lot of money the kid convinces her to switch her bet employing a prefabricated con unfortunately ...</td>\n",
       "      <td>[Screwball comedy, Comedy]</td>\n",
       "    </tr>\n",
       "    <tr>\n",
       "      <th>4</th>\n",
       "      <td>595909</td>\n",
       "      <td>A Cry in the Dark</td>\n",
       "      <td>Seventh-day Adventist Church pastor Michael Chamberlain, his wife Lindy, their two sons, and their nine-week-old daughter Azaria are on a camping holiday in the Outback. With the baby sleeping in their tent, the family is enjoying a barbecue with their fellow campers when a cry is heard. Lindy r...</td>\n",
       "      <td>seventh day adventist church pastor michael chamberlain his wife lindy their two sons and their nine week old daughter azaria are on a camping holiday in the outback with the baby sleeping in their tent the family is enjoying a barbecue with their fellow campers when a cry is heard lindy returns...</td>\n",
       "      <td>[Crime Fiction, Drama, Docudrama, World cinema, Courtroom Drama]</td>\n",
       "    </tr>\n",
       "  </tbody>\n",
       "</table>\n",
       "</div>"
      ],
      "text/plain": [
       "    id_wiki               title  \\\n",
       "0  23890098          Taxi Blues   \n",
       "1  31186339    The Hunger Games   \n",
       "2  20663735          Narasimham   \n",
       "3   2231378  The Lemon Drop Kid   \n",
       "4    595909   A Cry in the Dark   \n",
       "\n",
       "                                                                                                                                                                                                                                                                                                          plot  \\\n",
       "0                                                                                                                           Shlykov, a hard-working taxi driver and Lyosha, a saxophonist, develop a bizarre love-hate relationship, and despite their prejudices, realize they aren't so different after all.   \n",
       "1  The nation of Panem consists of a wealthy Capitol and twelve poorer districts. As punishment for a past rebellion, each district must provide a boy and girl  between the ages of 12 and 18 selected by lottery  for the annual Hunger Games. The tributes must fight to the death in an arena; the sole...   \n",
       "2  Poovalli Induchoodan  is sentenced for six years prison life for murdering his classmate. Induchoodan, the only son of Justice Maranchery Karunakara Menon  was framed in the case by Manapally Madhavan Nambiar  and his crony DYSP Sankaranarayanan  to take revenge on idealist judge Menon who had e...   \n",
       "3  The Lemon Drop Kid , a New York City swindler, is illegally touting horses at a Florida racetrack. After several successful hustles, the Kid comes across a beautiful, but gullible, woman intending to bet a lot of money. The Kid convinces her to switch her bet, employing a prefabricated con. Unfo...   \n",
       "4  Seventh-day Adventist Church pastor Michael Chamberlain, his wife Lindy, their two sons, and their nine-week-old daughter Azaria are on a camping holiday in the Outback. With the baby sleeping in their tent, the family is enjoying a barbecue with their fellow campers when a cry is heard. Lindy r...   \n",
       "\n",
       "                                                                                                                                                                                                                                                                                                      plot_pre  \\\n",
       "0                                                                                                                                  shlykov a hard working taxi driver and lyosha a saxophonist develop a bizarre love hate relationship and despite their prejudices realize they arent so different after all   \n",
       "1  the nation of panem consists of a wealthy capitol and twelve poorer districts as punishment for a past rebellion each district must provide a boy and girl between the ages of and selected by lottery for the annual hunger games the tributes must fight to the death in an arena the sole survivor is...   \n",
       "2  poovalli induchoodan is sentenced for six years prison life for murdering his classmate induchoodan the only son of justice maranchery karunakara menon was framed in the case by manapally madhavan nambiar and his crony dysp sankaranarayanan to take revenge on idealist judge menon who had earlier...   \n",
       "3  the lemon drop kid a new york city swindler is illegally touting horses at a florida racetrack after several successful hustles the kid comes across a beautiful but gullible woman intending to bet a lot of money the kid convinces her to switch her bet employing a prefabricated con unfortunately ...   \n",
       "4  seventh day adventist church pastor michael chamberlain his wife lindy their two sons and their nine week old daughter azaria are on a camping holiday in the outback with the baby sleeping in their tent the family is enjoying a barbecue with their fellow campers when a cry is heard lindy returns...   \n",
       "\n",
       "                                                             genres  \n",
       "0                                             [Drama, World cinema]  \n",
       "1                [Action/Adventure, Science Fiction, Action, Drama]  \n",
       "2                               [Musical, Action, Drama, Bollywood]  \n",
       "3                                        [Screwball comedy, Comedy]  \n",
       "4  [Crime Fiction, Drama, Docudrama, World cinema, Courtroom Drama]  "
      ]
     },
     "execution_count": 7,
     "metadata": {},
     "output_type": "execute_result"
    }
   ],
   "source": [
    "def normaliza(doc):\n",
    "    doc = re.sub(\"\\'\", \"\", doc)\n",
    "    doc = re.sub(\"[^a-zA-Z]\",\" \", doc)\n",
    "    doc = ' '.join(doc.split())\n",
    "    doc = doc.lower()\n",
    "    return doc\n",
    "\n",
    "cols = ['id_wiki','title','plot','plot_pre','genres']\n",
    "df['plot_pre'] = np.nan\n",
    "df = df[cols]\n",
    "\n",
    "%time df['plot_pre'] = df['plot'].progress_apply(normaliza)\n",
    "df.head()"
   ]
  },
  {
   "cell_type": "markdown",
   "metadata": {},
   "source": [
    "## Stopwords\n",
    "\n",
    "> Stop words are any word in a stop list (or stoplist or negative dictionary) which are filtered out (i.e. stopped) before or after processing of natural language data (text). There is no single universal list of stop words used by all natural language processing tools, nor any agreed upon rules for identifying stop words, and indeed not all tools even use such a list. Therefore, any group of words can be chosen as the stop words for a given purpose. The \"general trend in [information retrieval] systems over time has been from standard use of quite large stop lists (200–300 terms) to very small stop lists (7–12 terms) to no stop list whatsoever\""
   ]
  },
  {
   "cell_type": "code",
   "execution_count": 8,
   "metadata": {},
   "outputs": [
    {
     "name": "stderr",
     "output_type": "stream",
     "text": [
      "100%|██████████| 41793/41793 [00:31<00:00, 1323.87it/s]"
     ]
    },
    {
     "name": "stdout",
     "output_type": "stream",
     "text": [
      "CPU times: user 31.1 s, sys: 222 ms, total: 31.4 s\n",
      "Wall time: 31.6 s\n"
     ]
    },
    {
     "name": "stderr",
     "output_type": "stream",
     "text": [
      "\n"
     ]
    },
    {
     "data": {
      "text/html": [
       "<div>\n",
       "<style scoped>\n",
       "    .dataframe tbody tr th:only-of-type {\n",
       "        vertical-align: middle;\n",
       "    }\n",
       "\n",
       "    .dataframe tbody tr th {\n",
       "        vertical-align: top;\n",
       "    }\n",
       "\n",
       "    .dataframe thead th {\n",
       "        text-align: right;\n",
       "    }\n",
       "</style>\n",
       "<table border=\"1\" class=\"dataframe\">\n",
       "  <thead>\n",
       "    <tr style=\"text-align: right;\">\n",
       "      <th></th>\n",
       "      <th>id_wiki</th>\n",
       "      <th>title</th>\n",
       "      <th>plot</th>\n",
       "      <th>plot_pre</th>\n",
       "      <th>genres</th>\n",
       "    </tr>\n",
       "  </thead>\n",
       "  <tbody>\n",
       "    <tr>\n",
       "      <th>0</th>\n",
       "      <td>23890098</td>\n",
       "      <td>Taxi Blues</td>\n",
       "      <td>Shlykov, a hard-working taxi driver and Lyosha, a saxophonist, develop a bizarre love-hate relationship, and despite their prejudices, realize they aren't so different after all.</td>\n",
       "      <td>shlykov hard working taxi driver lyosha saxophonist develop bizarre love hate relationship despite prejudices realize arent different</td>\n",
       "      <td>[Drama, World cinema]</td>\n",
       "    </tr>\n",
       "    <tr>\n",
       "      <th>1</th>\n",
       "      <td>31186339</td>\n",
       "      <td>The Hunger Games</td>\n",
       "      <td>The nation of Panem consists of a wealthy Capitol and twelve poorer districts. As punishment for a past rebellion, each district must provide a boy and girl  between the ages of 12 and 18 selected by lottery  for the annual Hunger Games. The tributes must fight to the death in an arena; the sole...</td>\n",
       "      <td>nation panem consists wealthy capitol twelve poorer districts punishment past rebellion district must provide boy girl ages selected lottery annual hunger games tributes must fight death arena sole survivor rewarded fame wealth first reaping year old primrose everdeen chosen district older siste...</td>\n",
       "      <td>[Action/Adventure, Science Fiction, Action, Drama]</td>\n",
       "    </tr>\n",
       "    <tr>\n",
       "      <th>2</th>\n",
       "      <td>20663735</td>\n",
       "      <td>Narasimham</td>\n",
       "      <td>Poovalli Induchoodan  is sentenced for six years prison life for murdering his classmate. Induchoodan, the only son of Justice Maranchery Karunakara Menon  was framed in the case by Manapally Madhavan Nambiar  and his crony DYSP Sankaranarayanan  to take revenge on idealist judge Menon who had e...</td>\n",
       "      <td>poovalli induchoodan sentenced six years prison life murdering classmate induchoodan son justice maranchery karunakara menon framed case manapally madhavan nambiar crony dysp sankaranarayanan take revenge idealist judge menon earlier given jail sentence manapally corruption case induchoodan achi...</td>\n",
       "      <td>[Musical, Action, Drama, Bollywood]</td>\n",
       "    </tr>\n",
       "    <tr>\n",
       "      <th>3</th>\n",
       "      <td>2231378</td>\n",
       "      <td>The Lemon Drop Kid</td>\n",
       "      <td>The Lemon Drop Kid , a New York City swindler, is illegally touting horses at a Florida racetrack. After several successful hustles, the Kid comes across a beautiful, but gullible, woman intending to bet a lot of money. The Kid convinces her to switch her bet, employing a prefabricated con. Unfo...</td>\n",
       "      <td>lemon drop kid new york city swindler illegally touting horses florida racetrack several successful hustles kid comes across beautiful gullible woman intending bet lot money kid convinces switch bet employing prefabricated con unfortunately kid woman belongs notorious gangster moose moran money ...</td>\n",
       "      <td>[Screwball comedy, Comedy]</td>\n",
       "    </tr>\n",
       "    <tr>\n",
       "      <th>4</th>\n",
       "      <td>595909</td>\n",
       "      <td>A Cry in the Dark</td>\n",
       "      <td>Seventh-day Adventist Church pastor Michael Chamberlain, his wife Lindy, their two sons, and their nine-week-old daughter Azaria are on a camping holiday in the Outback. With the baby sleeping in their tent, the family is enjoying a barbecue with their fellow campers when a cry is heard. Lindy r...</td>\n",
       "      <td>seventh day adventist church pastor michael chamberlain wife lindy two sons nine week old daughter azaria camping holiday outback baby sleeping tent family enjoying barbecue fellow campers cry heard lindy returns tent check azaria certain sees dingo something mouth running approaches discovers i...</td>\n",
       "      <td>[Crime Fiction, Drama, Docudrama, World cinema, Courtroom Drama]</td>\n",
       "    </tr>\n",
       "  </tbody>\n",
       "</table>\n",
       "</div>"
      ],
      "text/plain": [
       "    id_wiki               title  \\\n",
       "0  23890098          Taxi Blues   \n",
       "1  31186339    The Hunger Games   \n",
       "2  20663735          Narasimham   \n",
       "3   2231378  The Lemon Drop Kid   \n",
       "4    595909   A Cry in the Dark   \n",
       "\n",
       "                                                                                                                                                                                                                                                                                                          plot  \\\n",
       "0                                                                                                                           Shlykov, a hard-working taxi driver and Lyosha, a saxophonist, develop a bizarre love-hate relationship, and despite their prejudices, realize they aren't so different after all.   \n",
       "1  The nation of Panem consists of a wealthy Capitol and twelve poorer districts. As punishment for a past rebellion, each district must provide a boy and girl  between the ages of 12 and 18 selected by lottery  for the annual Hunger Games. The tributes must fight to the death in an arena; the sole...   \n",
       "2  Poovalli Induchoodan  is sentenced for six years prison life for murdering his classmate. Induchoodan, the only son of Justice Maranchery Karunakara Menon  was framed in the case by Manapally Madhavan Nambiar  and his crony DYSP Sankaranarayanan  to take revenge on idealist judge Menon who had e...   \n",
       "3  The Lemon Drop Kid , a New York City swindler, is illegally touting horses at a Florida racetrack. After several successful hustles, the Kid comes across a beautiful, but gullible, woman intending to bet a lot of money. The Kid convinces her to switch her bet, employing a prefabricated con. Unfo...   \n",
       "4  Seventh-day Adventist Church pastor Michael Chamberlain, his wife Lindy, their two sons, and their nine-week-old daughter Azaria are on a camping holiday in the Outback. With the baby sleeping in their tent, the family is enjoying a barbecue with their fellow campers when a cry is heard. Lindy r...   \n",
       "\n",
       "                                                                                                                                                                                                                                                                                                      plot_pre  \\\n",
       "0                                                                                                                                                                        shlykov hard working taxi driver lyosha saxophonist develop bizarre love hate relationship despite prejudices realize arent different   \n",
       "1  nation panem consists wealthy capitol twelve poorer districts punishment past rebellion district must provide boy girl ages selected lottery annual hunger games tributes must fight death arena sole survivor rewarded fame wealth first reaping year old primrose everdeen chosen district older siste...   \n",
       "2  poovalli induchoodan sentenced six years prison life murdering classmate induchoodan son justice maranchery karunakara menon framed case manapally madhavan nambiar crony dysp sankaranarayanan take revenge idealist judge menon earlier given jail sentence manapally corruption case induchoodan achi...   \n",
       "3  lemon drop kid new york city swindler illegally touting horses florida racetrack several successful hustles kid comes across beautiful gullible woman intending bet lot money kid convinces switch bet employing prefabricated con unfortunately kid woman belongs notorious gangster moose moran money ...   \n",
       "4  seventh day adventist church pastor michael chamberlain wife lindy two sons nine week old daughter azaria camping holiday outback baby sleeping tent family enjoying barbecue fellow campers cry heard lindy returns tent check azaria certain sees dingo something mouth running approaches discovers i...   \n",
       "\n",
       "                                                             genres  \n",
       "0                                             [Drama, World cinema]  \n",
       "1                [Action/Adventure, Science Fiction, Action, Drama]  \n",
       "2                               [Musical, Action, Drama, Bollywood]  \n",
       "3                                        [Screwball comedy, Comedy]  \n",
       "4  [Crime Fiction, Drama, Docudrama, World cinema, Courtroom Drama]  "
      ]
     },
     "execution_count": 8,
     "metadata": {},
     "output_type": "execute_result"
    }
   ],
   "source": [
    "stop_words = nltk.corpus.stopwords.words('english')\n",
    "\n",
    "def remove_stopwords(doc):\n",
    "    doc = doc.split()\n",
    "    doc = [w for w in doc if not w in stop_words]\n",
    "    doc = ' '.join(doc)\n",
    "    return doc\n",
    "\n",
    "%time df['plot_pre'] = df['plot_pre'].progress_apply(remove_stopwords)\n",
    "df.head()"
   ]
  },
  {
   "cell_type": "code",
   "execution_count": 9,
   "metadata": {},
   "outputs": [
    {
     "name": "stdout",
     "output_type": "stream",
     "text": [
      "words total: 152691\n"
     ]
    },
    {
     "data": {
      "image/png": "[encoded data removed]",
      "text/plain": [
       "<Figure size 864x1080 with 1 Axes>"
      ]
     },
     "metadata": {
      "needs_background": "light"
     },
     "output_type": "display_data"
    }
   ],
   "source": [
    "def words_freq(doc, terms=30): \n",
    "    li = ' '.join([text for text in doc])\n",
    "    li = li.split() \n",
    "    freq = nltk.FreqDist(li) \n",
    "    df_words = pd.DataFrame({'word':list(freq.keys()), 'count':list(freq.values())})\n",
    "    df_words.sort_values('count', ascending=False, ignore_index=True, inplace=True)\n",
    "    print('words total: {}'.format(df_words.shape[0]))\n",
    "\n",
    "    plt.figure(figsize=(12,15)) \n",
    "    ax = sns.barplot(data=df_words[:terms], x='count', y='word', palette='tab10')\n",
    "    ax.set(xlabel=None, ylabel=None)\n",
    "    ax.bar_label(ax.containers[0], padding=3)\n",
    "    plt.show()\n",
    "\n",
    "words_freq(df['plot_pre'], 50)"
   ]
  },
  {
   "cell_type": "code",
   "execution_count": 10,
   "metadata": {},
   "outputs": [
    {
     "data": {
      "text/plain": [
       "(41793, 5)"
      ]
     },
     "execution_count": 10,
     "metadata": {},
     "output_type": "execute_result"
    }
   ],
   "source": [
    "df.shape"
   ]
  },
  {
   "cell_type": "markdown",
   "metadata": {},
   "source": [
    "# Binary relevance\n",
    "\n",
    "> is arguably the most intuitive solution for learning from multi-label examples. It works by decomposing the multi-label learning task into a number of independent binary learning tasks (one per class label).\n",
    "\n",
    "## Implementação\n",
    "\n",
    "| `X` | `y` |\n",
    "|:--:|:--:|\n",
    "| `X₁` | `[t₂,t₅]` |\n",
    "| `X₂` | `[t₁,t₂,t₃,t₄]` |\n",
    "| `X₃` | `[t₃]` |\n",
    "\n",
    "`X` e `y` são os features e labels, respectivamente. Usando uma abordagem de relevância binária para transformar nossa variável alvo `y`. Extraimos primeiro os labels unicos no dataset:\n",
    "\n",
    "    Labels unicos = [ t1, t2, t3, t4, t5 ]\n",
    "\n",
    "Em seguida, subistituimos a variável alvo por várias outras variáveis, cada uma pertencendo aos labels unicos do dataset. Dado o exemplo acima, uma vez que existem 5 labels, haverá 5 novas variáveis alvos com valores 0 e 1, conforme mostrado abaixo:\n",
    "\n",
    "| `X` | `t₁` | `t₂` | `t₃` | `t₄` | `t₅` |\n",
    "|:--:|:--:|:--:|:--:|:--:|:--:|\n",
    "| `X₁` | 1 | 0 | 0 | 0 | 1 |\n",
    "| `X₂` | 1 | 1 | 1 | 1 | 0 |\n",
    "| `X₃` | 0 | 0 | 1 | 0 | 0 |"
   ]
  },
  {
   "cell_type": "code",
   "execution_count": 11,
   "metadata": {},
   "outputs": [],
   "source": [
    "mlb = MultiLabelBinarizer().fit(df['genres'])\n",
    "y = mlb.transform(df['genres'])"
   ]
  },
  {
   "cell_type": "markdown",
   "metadata": {},
   "source": [
    "# Feature extraction\n",
    "\n",
    "> In machine learning, pattern recognition, and image processing, feature extraction starts from an initial set of measured data and builds derived values (features) intended to be informative and non-redundant, facilitating the subsequent learning and generalization steps, and in some cases leading to better human interpretations. Feature extraction is related to dimensionality reduction.\n",
    "\n",
    "## TF-IDF\n",
    "\n",
    "> TF-IDF (term frequency-inverse document frequency) is a statistical measure that evaluates how relevant a word is to a document in a collection of documents. This is done by multiplying two metrics: how many times a word appears in a document, and the inverse document frequency of the word across a set of documents."
   ]
  },
  {
   "cell_type": "code",
   "execution_count": 12,
   "metadata": {},
   "outputs": [
    {
     "name": "stdout",
     "output_type": "stream",
     "text": [
      "CPU times: user 39.1 s, sys: 1.18 s, total: 40.3 s\n",
      "Wall time: 40.6 s\n"
     ]
    }
   ],
   "source": [
    "%%time\n",
    "features = 10000\n",
    "data = df['plot_pre']\n",
    "\n",
    "tfidf_vectorizer = TfidfVectorizer(ngram_range=(1,2), max_df=0.8, max_features=features)\n",
    "# 80-20 - 80% das amostras de dados no conjunto de treino e o resto no conjunto de validação\n",
    "xtrain, xval, ytrain, yval = train_test_split(data, y, test_size=0.2, random_state=9)\n",
    "\n",
    "xtrain_tfidf = tfidf_vectorizer.fit_transform(xtrain)\n",
    "xval_tfidf = tfidf_vectorizer.transform(xval)"
   ]
  },
  {
   "cell_type": "markdown",
   "metadata": {},
   "source": [
    "# Prediction Model\n",
    "\n",
    "## Logistic regression\n",
    "\n",
    "Treinar 363 modelos pode levar um tempo considerável. Dessa forma, construimos um modelo usando regressão logística, pois é rápido para treinar em poder computacional limitado.\n",
    "\n",
    "> The purpose of logistic regression is to estimate the probabilities of events, including determining a relationship between features and the probabilities of particular outcomes."
   ]
  },
  {
   "cell_type": "code",
   "execution_count": 13,
   "metadata": {},
   "outputs": [
    {
     "name": "stdout",
     "output_type": "stream",
     "text": [
      "CPU times: user 13min 26s, sys: 9min 46s, total: 23min 12s\n",
      "Wall time: 7min 39s\n"
     ]
    },
    {
     "data": {
      "text/plain": [
       "OneVsRestClassifier(estimator=LogisticRegression())"
      ]
     },
     "execution_count": 13,
     "metadata": {},
     "output_type": "execute_result"
    }
   ],
   "source": [
    "warnings.filterwarnings(action='ignore')\n",
    "\n",
    "lr = LogisticRegression()\n",
    "clf = OneVsRestClassifier(lr)\n",
    "%time clf.fit(xtrain_tfidf, ytrain)"
   ]
  },
  {
   "cell_type": "code",
   "execution_count": 14,
   "metadata": {},
   "outputs": [
    {
     "data": {
      "text/plain": [
       "['./data/clf_object.pkl']"
      ]
     },
     "execution_count": 14,
     "metadata": {},
     "output_type": "execute_result"
    }
   ],
   "source": [
    "joblib.dump(clf, './data/clf_object.pkl')"
   ]
  },
  {
   "cell_type": "code",
   "execution_count": 15,
   "metadata": {},
   "outputs": [
    {
     "data": {
      "text/plain": [
       "0.31616576871026225"
      ]
     },
     "execution_count": 15,
     "metadata": {},
     "output_type": "execute_result"
    }
   ],
   "source": [
    "clf = joblib.load('./data/clf_object.pkl')\n",
    "\n",
    "y_pred = clf.predict(xval_tfidf)\n",
    "f1_score(yval, y_pred, average=\"micro\")"
   ]
  },
  {
   "cell_type": "code",
   "execution_count": 16,
   "metadata": {},
   "outputs": [
    {
     "name": "stdout",
     "output_type": "stream",
     "text": [
      "Array[4] size: 363\n",
      "('Action', 'Crime Fiction', 'Thriller')\n"
     ]
    },
    {
     "data": {
      "text/plain": [
       "array([0, 0, 1, 0, 0, 0, 0, 0, 0, 0, 0, 0, 0, 0, 0, 0, 0, 0, 0, 0, 0, 0,\n",
       "       0, 0, 0, 0, 0, 0, 0, 0, 0, 0, 0, 0, 0, 0, 0, 0, 0, 0, 0, 0, 0, 0,\n",
       "       0, 0, 0, 0, 0, 0, 0, 0, 0, 0, 0, 0, 0, 0, 0, 0, 0, 0, 0, 0, 0, 0,\n",
       "       0, 0, 0, 0, 0, 0, 0, 0, 0, 0, 0, 0, 0, 0, 0, 0, 0, 0, 0, 0, 0, 0,\n",
       "       0, 0, 0, 0, 0, 0, 0, 0, 0, 0, 1, 0, 0, 0, 0, 0, 0, 0, 0, 0, 0, 0,\n",
       "       0, 0, 0, 0, 0, 0, 0, 0, 0, 0, 0, 0, 0, 0, 0, 0, 0, 0, 0, 0, 0, 0,\n",
       "       0, 0, 0, 0, 0, 0, 0, 0, 0, 0, 0, 0, 0, 0, 0, 0, 0, 0, 0, 0, 0, 0,\n",
       "       0, 0, 0, 0, 0, 0, 0, 0, 0, 0, 0, 0, 0, 0, 0, 0, 0, 0, 0, 0, 0, 0,\n",
       "       0, 0, 0, 0, 0, 0, 0, 0, 0, 0, 0, 0, 0, 0, 0, 0, 0, 0, 0, 0, 0, 0,\n",
       "       0, 0, 0, 0, 0, 0, 0, 0, 0, 0, 0, 0, 0, 0, 0, 0, 0, 0, 0, 0, 0, 0,\n",
       "       0, 0, 0, 0, 0, 0, 0, 0, 0, 0, 0, 0, 0, 0, 0, 0, 0, 0, 0, 0, 0, 0,\n",
       "       0, 0, 0, 0, 0, 0, 0, 0, 0, 0, 0, 0, 0, 0, 0, 0, 0, 0, 0, 0, 0, 0,\n",
       "       0, 0, 0, 0, 0, 0, 0, 0, 0, 0, 0, 0, 0, 0, 0, 0, 0, 0, 0, 0, 0, 0,\n",
       "       0, 0, 0, 0, 0, 0, 0, 0, 0, 0, 0, 0, 0, 0, 0, 0, 0, 0, 0, 0, 0, 0,\n",
       "       0, 0, 0, 0, 0, 0, 0, 0, 0, 0, 0, 0, 0, 0, 0, 0, 0, 0, 0, 0, 0, 0,\n",
       "       0, 0, 0, 0, 0, 0, 0, 0, 0, 0, 0, 0, 0, 1, 0, 0, 0, 0, 0, 0, 0, 0,\n",
       "       0, 0, 0, 0, 0, 0, 0, 0, 0, 0, 0])"
      ]
     },
     "execution_count": 16,
     "metadata": {},
     "output_type": "execute_result"
    }
   ],
   "source": [
    "idx = 4\n",
    "print('Array[{}] size: {}'.format(idx, len(y_pred[idx])))\n",
    "print('{}'.format(mlb.inverse_transform(y_pred)[idx]))\n",
    "y_pred[idx]"
   ]
  },
  {
   "cell_type": "code",
   "execution_count": 17,
   "metadata": {},
   "outputs": [
    {
     "data": {
      "text/plain": [
       "0.43752550395821427"
      ]
     },
     "execution_count": 17,
     "metadata": {},
     "output_type": "execute_result"
    }
   ],
   "source": [
    "t = 0.3\n",
    "y_pred_prob = clf.predict_proba(xval_tfidf)\n",
    "y_pred_new = (y_pred_prob >= t).astype(int)\n",
    "f1_score(yval, y_pred_new, average=\"micro\")"
   ]
  },
  {
   "cell_type": "markdown",
   "metadata": {},
   "source": [
    "# Pipeline"
   ]
  },
  {
   "cell_type": "code",
   "execution_count": 17,
   "metadata": {},
   "outputs": [],
   "source": [
    "from sklearn.pipeline import Pipeline\n",
    "from sklearn.feature_extraction.text import CountVectorizer, TfidfTransformer\n",
    "\n",
    "from sklearn.model_selection import GridSearchCV\n",
    "from sklearn.model_selection import cross_val_score\n",
    "from sklearn.svm import LinearSVC"
   ]
  },
  {
   "cell_type": "code",
   "execution_count": 18,
   "metadata": {},
   "outputs": [
    {
     "data": {
      "text/plain": [
       "dict_keys(['C', 'class_weight', 'dual', 'fit_intercept', 'intercept_scaling', 'l1_ratio', 'max_iter', 'multi_class', 'n_jobs', 'penalty', 'random_state', 'solver', 'tol', 'verbose', 'warm_start'])"
      ]
     },
     "execution_count": 18,
     "metadata": {},
     "output_type": "execute_result"
    }
   ],
   "source": [
    "LogisticRegression().get_params().keys()"
   ]
  },
  {
   "cell_type": "code",
   "execution_count": 19,
   "metadata": {},
   "outputs": [],
   "source": [
    "lr = LogisticRegression()\n",
    "pipeline = Pipeline(steps=[\n",
    "    ('vect', CountVectorizer()),\n",
    "    ('tfidf', TfidfTransformer()),\n",
    "    ('clf', OneVsRestClassifier(lr))\n",
    "])\n",
    "\n",
    "'''\n",
    "param_grid = {\n",
    "    'vect__max_features': [1000, 5000, 10000],\n",
    "    'vect__ngram_range': [(1, 1), (1, 2)],\n",
    "    'vect__max_df': [0.6, 0.8],\n",
    "}\n",
    "'''\n",
    "\n",
    "param_grid = {\n",
    "    'vect__max_features': [5000, 10000],\n",
    "    'vect__max_df': [0.6, 0.8],\n",
    "}"
   ]
  },
  {
   "cell_type": "code",
   "execution_count": 20,
   "metadata": {},
   "outputs": [],
   "source": [
    "%%time\n",
    "warnings.filterwarnings(action='ignore')\n",
    "search = GridSearchCV(pipeline, param_grid, return_train_score=True, n_jobs=1)\n",
    "search.fit(xtrain, ytrain)\n",
    "\n",
    "print(\"Best parameter (CV score=%0.3f):\" % search.best_score_)\n",
    "print(search.best_params_)"
   ]
  },
  {
   "cell_type": "code",
   "execution_count": 32,
   "metadata": {},
   "outputs": [
    {
     "data": {
      "text/plain": [
       "['./data/gs_object.pkl']"
      ]
     },
     "execution_count": 32,
     "metadata": {},
     "output_type": "execute_result"
    }
   ],
   "source": [
    "joblib.dump(search, './data/gs_object.pkl')"
   ]
  },
  {
   "cell_type": "markdown",
   "metadata": {},
   "source": [
    "# Análise"
   ]
  },
  {
   "cell_type": "code",
   "execution_count": 38,
   "metadata": {},
   "outputs": [
    {
     "ename": "KeyError",
     "evalue": "'mean_train_score'",
     "output_type": "error",
     "traceback": [
      "\u001b[0;31m---------------------------------------------------------------------------\u001b[0m",
      "\u001b[0;31mKeyError\u001b[0m                                  Traceback (most recent call last)",
      "\u001b[0;32m/tmp/ipykernel_329617/2917113267.py\u001b[0m in \u001b[0;36m<module>\u001b[0;34m\u001b[0m\n\u001b[1;32m     37\u001b[0m     \u001b[0mplt\u001b[0m\u001b[0;34m.\u001b[0m\u001b[0mshow\u001b[0m\u001b[0;34m(\u001b[0m\u001b[0;34m)\u001b[0m\u001b[0;34m\u001b[0m\u001b[0;34m\u001b[0m\u001b[0m\n\u001b[1;32m     38\u001b[0m \u001b[0;34m\u001b[0m\u001b[0m\n\u001b[0;32m---> 39\u001b[0;31m \u001b[0mplot_search_results\u001b[0m\u001b[0;34m(\u001b[0m\u001b[0msearch\u001b[0m\u001b[0;34m)\u001b[0m\u001b[0;34m\u001b[0m\u001b[0;34m\u001b[0m\u001b[0m\n\u001b[0m",
      "\u001b[0;32m/tmp/ipykernel_329617/2917113267.py\u001b[0m in \u001b[0;36mplot_search_results\u001b[0;34m(grid)\u001b[0m\n\u001b[1;32m      6\u001b[0m     \u001b[0mmeans_test\u001b[0m \u001b[0;34m=\u001b[0m \u001b[0mresults\u001b[0m\u001b[0;34m[\u001b[0m\u001b[0;34m'mean_test_score'\u001b[0m\u001b[0;34m]\u001b[0m\u001b[0;34m\u001b[0m\u001b[0;34m\u001b[0m\u001b[0m\n\u001b[1;32m      7\u001b[0m     \u001b[0mstds_test\u001b[0m \u001b[0;34m=\u001b[0m \u001b[0mresults\u001b[0m\u001b[0;34m[\u001b[0m\u001b[0;34m'std_test_score'\u001b[0m\u001b[0;34m]\u001b[0m\u001b[0;34m\u001b[0m\u001b[0;34m\u001b[0m\u001b[0m\n\u001b[0;32m----> 8\u001b[0;31m     \u001b[0mmeans_train\u001b[0m \u001b[0;34m=\u001b[0m \u001b[0mresults\u001b[0m\u001b[0;34m[\u001b[0m\u001b[0;34m'mean_train_score'\u001b[0m\u001b[0;34m]\u001b[0m\u001b[0;34m\u001b[0m\u001b[0;34m\u001b[0m\u001b[0m\n\u001b[0m\u001b[1;32m      9\u001b[0m     \u001b[0mstds_train\u001b[0m \u001b[0;34m=\u001b[0m \u001b[0mresults\u001b[0m\u001b[0;34m[\u001b[0m\u001b[0;34m'std_train_score'\u001b[0m\u001b[0;34m]\u001b[0m\u001b[0;34m\u001b[0m\u001b[0;34m\u001b[0m\u001b[0m\n\u001b[1;32m     10\u001b[0m \u001b[0;34m\u001b[0m\u001b[0m\n",
      "\u001b[0;31mKeyError\u001b[0m: 'mean_train_score'"
     ]
    }
   ],
   "source": [
    "search = joblib.load(\"./data/gs_object.pkl\")\n",
    "\n",
    "def plot_search_results(grid):\n",
    "\n",
    "    results = grid.cv_results_\n",
    "    means_test = results['mean_test_score']\n",
    "    stds_test = results['std_test_score']\n",
    "    means_train = results['mean_train_score']\n",
    "    stds_train = results['std_train_score']\n",
    "\n",
    "    masks=[]\n",
    "    masks_names= list(grid.best_params_.keys())\n",
    "    for p_k, p_v in grid.best_params_.items():\n",
    "        masks.append(list(results['param_'+p_k].data==p_v))\n",
    "\n",
    "    params=grid.param_grid\n",
    "\n",
    "    fig, ax = plt.subplots(1,len(params),sharex='none', sharey='all',figsize=(20,5))\n",
    "    fig.suptitle('Score per parameter')\n",
    "    fig.text(0.04, 0.5, 'MEAN SCORE', va='center', rotation='vertical')\n",
    "    pram_preformace_in_best = {}\n",
    "    for i, p in enumerate(masks_names):\n",
    "        m = np.stack(masks[:i] + masks[i+1:])\n",
    "        pram_preformace_in_best\n",
    "        best_parms_mask = m.all(axis=0)\n",
    "        best_index = np.where(best_parms_mask)[0]\n",
    "        x = np.array(params[p])\n",
    "        y_1 = np.array(means_test[best_index])\n",
    "        e_1 = np.array(stds_test[best_index])\n",
    "        y_2 = np.array(means_train[best_index])\n",
    "        e_2 = np.array(stds_train[best_index])\n",
    "        ax[i].errorbar(x, y_1, e_1, linestyle='--', marker='o', label='test')\n",
    "        ax[i].errorbar(x, y_2, e_2, linestyle='-', marker='^',label='train' )\n",
    "        ax[i].set_xlabel(p.upper())\n",
    "\n",
    "    plt.legend()\n",
    "    plt.show()\n",
    "\n",
    "plot_search_results(search)"
   ]
  },
  {
   "cell_type": "code",
   "execution_count": 34,
   "metadata": {},
   "outputs": [
    {
     "data": {
      "text/plain": [
       "{'mean_fit_time': array([230.57473235, 490.95612803, 562.52677693, 694.89232993,\n",
       "        683.44568329, 805.47786546, 199.38257713, 237.22895689,\n",
       "        281.36210208, 446.21106133, 395.55239811, 396.94730754]),\n",
       " 'std_fit_time': array([ 38.97341512,  18.68167107,   7.2143446 ,  14.81997428,\n",
       "         35.27759957, 120.34048167,  25.45307247,   5.77892859,\n",
       "         14.60264564,  93.70894943,  61.17811068,  73.84452213]),\n",
       " 'mean_score_time': array([ 6.92051659, 16.9654407 , 10.3523396 , 17.73427858,  9.12656155,\n",
       "        15.07289143,  3.60672522,  6.74390998,  4.42189341,  9.27412853,\n",
       "         4.85304623,  7.37092304]),\n",
       " 'std_score_time': array([2.57132089, 2.04938471, 2.73144755, 1.85664034, 1.79414709,\n",
       "        7.9871503 , 0.2785218 , 1.74570111, 0.51474557, 2.93870311,\n",
       "        0.66562165, 3.33368337]),\n",
       " 'param_vect__max_df': masked_array(data=[0.6, 0.6, 0.6, 0.6, 0.6, 0.6, 0.8, 0.8, 0.8, 0.8, 0.8,\n",
       "                    0.8],\n",
       "              mask=[False, False, False, False, False, False, False, False,\n",
       "                    False, False, False, False],\n",
       "        fill_value='?',\n",
       "             dtype=object),\n",
       " 'param_vect__max_features': masked_array(data=[1000, 1000, 5000, 5000, 10000, 10000, 1000, 1000, 5000,\n",
       "                    5000, 10000, 10000],\n",
       "              mask=[False, False, False, False, False, False, False, False,\n",
       "                    False, False, False, False],\n",
       "        fill_value='?',\n",
       "             dtype=object),\n",
       " 'param_vect__ngram_range': masked_array(data=[(1, 1), (1, 2), (1, 1), (1, 2), (1, 1), (1, 2), (1, 1),\n",
       "                    (1, 2), (1, 1), (1, 2), (1, 1), (1, 2)],\n",
       "              mask=[False, False, False, False, False, False, False, False,\n",
       "                    False, False, False, False],\n",
       "        fill_value='?',\n",
       "             dtype=object),\n",
       " 'params': [{'vect__max_df': 0.6,\n",
       "   'vect__max_features': 1000,\n",
       "   'vect__ngram_range': (1, 1)},\n",
       "  {'vect__max_df': 0.6,\n",
       "   'vect__max_features': 1000,\n",
       "   'vect__ngram_range': (1, 2)},\n",
       "  {'vect__max_df': 0.6,\n",
       "   'vect__max_features': 5000,\n",
       "   'vect__ngram_range': (1, 1)},\n",
       "  {'vect__max_df': 0.6,\n",
       "   'vect__max_features': 5000,\n",
       "   'vect__ngram_range': (1, 2)},\n",
       "  {'vect__max_df': 0.6,\n",
       "   'vect__max_features': 10000,\n",
       "   'vect__ngram_range': (1, 1)},\n",
       "  {'vect__max_df': 0.6,\n",
       "   'vect__max_features': 10000,\n",
       "   'vect__ngram_range': (1, 2)},\n",
       "  {'vect__max_df': 0.8,\n",
       "   'vect__max_features': 1000,\n",
       "   'vect__ngram_range': (1, 1)},\n",
       "  {'vect__max_df': 0.8,\n",
       "   'vect__max_features': 1000,\n",
       "   'vect__ngram_range': (1, 2)},\n",
       "  {'vect__max_df': 0.8,\n",
       "   'vect__max_features': 5000,\n",
       "   'vect__ngram_range': (1, 1)},\n",
       "  {'vect__max_df': 0.8,\n",
       "   'vect__max_features': 5000,\n",
       "   'vect__ngram_range': (1, 2)},\n",
       "  {'vect__max_df': 0.8,\n",
       "   'vect__max_features': 10000,\n",
       "   'vect__ngram_range': (1, 1)},\n",
       "  {'vect__max_df': 0.8,\n",
       "   'vect__max_features': 10000,\n",
       "   'vect__ngram_range': (1, 2)}],\n",
       " 'split0_test_score': array([0.05278899, 0.05174219, 0.06505159, 0.06579931, 0.06460296,\n",
       "        0.0647525 , 0.05278899, 0.05174219, 0.06505159, 0.06579931,\n",
       "        0.06460296, 0.0647525 ]),\n",
       " 'split1_test_score': array([0.06325707, 0.06460296, 0.07193061, 0.07282787, 0.07686556,\n",
       "        0.07761328, 0.06325707, 0.06460296, 0.07193061, 0.07282787,\n",
       "        0.07686556, 0.07761328]),\n",
       " 'split2_test_score': array([0.05353671, 0.05263945, 0.06550022, 0.06579931, 0.06923882,\n",
       "        0.06893973, 0.05353671, 0.05263945, 0.06550022, 0.06579931,\n",
       "        0.06923882, 0.06893973]),\n",
       " 'split3_test_score': array([0.0551817 , 0.05488261, 0.07118289, 0.07178107, 0.07133244,\n",
       "        0.069837  , 0.0551817 , 0.05488261, 0.07118289, 0.07178107,\n",
       "        0.07133244, 0.069837  ]),\n",
       " 'split4_test_score': array([0.0593778 , 0.05862997, 0.06670655, 0.06715525, 0.06939874,\n",
       "        0.06924918, 0.0593778 , 0.05862997, 0.06670655, 0.06715525,\n",
       "        0.06939874, 0.06924918]),\n",
       " 'mean_test_score': array([0.05682845, 0.05649944, 0.06807437, 0.06867256, 0.0702877 ,\n",
       "        0.07007834, 0.05682845, 0.05649944, 0.06807437, 0.06867256,\n",
       "        0.0702877 , 0.07007834]),\n",
       " 'std_test_score': array([0.00394185, 0.0046979 , 0.00290406, 0.00302466, 0.003964  ,\n",
       "        0.00417569, 0.00394185, 0.0046979 , 0.00290406, 0.00302466,\n",
       "        0.003964  , 0.00417569]),\n",
       " 'rank_test_score': array([ 9, 11,  7,  5,  1,  3,  9, 11,  7,  5,  1,  3], dtype=int32)}"
      ]
     },
     "execution_count": 34,
     "metadata": {},
     "output_type": "execute_result"
    }
   ],
   "source": [
    "search.cv_results_"
   ]
  },
  {
   "cell_type": "code",
   "execution_count": 347,
   "metadata": {},
   "outputs": [
    {
     "name": "stderr",
     "output_type": "stream",
     "text": [
      "/home/cecilio/Projetos/ufsj-Data-Science/.venv/lib/python3.9/site-packages/sklearn/multiclass.py:79: UserWarning: Label not 48 is present in all training examples.\n",
      "  warnings.warn(\n",
      "/home/cecilio/Projetos/ufsj-Data-Science/.venv/lib/python3.9/site-packages/sklearn/multiclass.py:79: UserWarning: Label not 182 is present in all training examples.\n",
      "  warnings.warn(\n",
      "/home/cecilio/Projetos/ufsj-Data-Science/.venv/lib/python3.9/site-packages/sklearn/multiclass.py:79: UserWarning: Label not 214 is present in all training examples.\n",
      "  warnings.warn(\n",
      "/home/cecilio/Projetos/ufsj-Data-Science/.venv/lib/python3.9/site-packages/sklearn/multiclass.py:79: UserWarning: Label not 245 is present in all training examples.\n",
      "  warnings.warn(\n"
     ]
    }
   ],
   "source": [
    "pipeline = Pipeline([\n",
    "    ('vect', CountVectorizer()),\n",
    "    ('tfidf', TfidfTransformer()),\n",
    "    ('clf', OneVsRestClassifier(LinearSVC(),n_jobs=-1)),\n",
    "])\n",
    "\n",
    "pipeline.fit(xtrain, ytrain)\n",
    "\n",
    "y_preds = pipeline.predict(xval)\n",
    "mean_f1 = f1_score(yval, y_preds, average='micro')"
   ]
  },
  {
   "cell_type": "markdown",
   "metadata": {},
   "source": [
    "# Inferência"
   ]
  },
  {
   "cell_type": "code",
   "execution_count": 18,
   "metadata": {},
   "outputs": [],
   "source": [
    "def infer_tags(q):\n",
    "    q = normaliza(q)\n",
    "    q = remove_stopwords(q)\n",
    "    q_vec = tfidf_vectorizer.transform([q])\n",
    "    q_pred = clf.predict(q_vec)\n",
    "    return mlb.inverse_transform(q_pred)"
   ]
  },
  {
   "cell_type": "code",
   "execution_count": 19,
   "metadata": {},
   "outputs": [
    {
     "data": {
      "text/html": [
       "<div>\n",
       "<style scoped>\n",
       "    .dataframe tbody tr th:only-of-type {\n",
       "        vertical-align: middle;\n",
       "    }\n",
       "\n",
       "    .dataframe tbody tr th {\n",
       "        vertical-align: top;\n",
       "    }\n",
       "\n",
       "    .dataframe thead th {\n",
       "        text-align: right;\n",
       "    }\n",
       "</style>\n",
       "<table border=\"1\" class=\"dataframe\">\n",
       "  <thead>\n",
       "    <tr style=\"text-align: right;\">\n",
       "      <th></th>\n",
       "      <th>title</th>\n",
       "      <th>genres</th>\n",
       "      <th>predicted</th>\n",
       "    </tr>\n",
       "  </thead>\n",
       "  <tbody>\n",
       "    <tr>\n",
       "      <th>31398</th>\n",
       "      <td>Pass the Ammo</td>\n",
       "      <td>[Parody, Satire, Comedy]</td>\n",
       "      <td>[(Comedy,)]</td>\n",
       "    </tr>\n",
       "    <tr>\n",
       "      <th>15464</th>\n",
       "      <td>Being Human</td>\n",
       "      <td>[Drama, Fantasy, Comedy, Japanese Movies]</td>\n",
       "      <td>[(Drama,)]</td>\n",
       "    </tr>\n",
       "    <tr>\n",
       "      <th>38165</th>\n",
       "      <td>A Date With Judy</td>\n",
       "      <td>[Musical, Comedy, Musical comedy]</td>\n",
       "      <td>[(Comedy, Romance Film)]</td>\n",
       "    </tr>\n",
       "    <tr>\n",
       "      <th>22670</th>\n",
       "      <td>4th Period Mystery</td>\n",
       "      <td>[Thriller]</td>\n",
       "      <td>[(Drama,)]</td>\n",
       "    </tr>\n",
       "    <tr>\n",
       "      <th>9315</th>\n",
       "      <td>Open Fire</td>\n",
       "      <td>[Action]</td>\n",
       "      <td>[(Action, Action/Adventure, Crime Fiction, Thriller)]</td>\n",
       "    </tr>\n",
       "    <tr>\n",
       "      <th>12534</th>\n",
       "      <td>Losing Balance</td>\n",
       "      <td>[Drama, Coming of age]</td>\n",
       "      <td>[(Drama,)]</td>\n",
       "    </tr>\n",
       "    <tr>\n",
       "      <th>19731</th>\n",
       "      <td>Soldier Blue</td>\n",
       "      <td>[Historical fiction, War film, Period piece, Action/Adventure, Revisionist Western, Western, Drama, Film adaptation]</td>\n",
       "      <td>[(Action/Adventure, Western)]</td>\n",
       "    </tr>\n",
       "    <tr>\n",
       "      <th>21829</th>\n",
       "      <td>Three Steps in the Dark</td>\n",
       "      <td>[Crime Fiction, Drama]</td>\n",
       "      <td>[(Drama, Mystery)]</td>\n",
       "    </tr>\n",
       "    <tr>\n",
       "      <th>29204</th>\n",
       "      <td>Amar Prem</td>\n",
       "      <td>[Melodrama, World cinema, Musical, Drama, Romantic drama, Romance Film, Bollywood]</td>\n",
       "      <td>[(Drama, Romance Film)]</td>\n",
       "    </tr>\n",
       "    <tr>\n",
       "      <th>38687</th>\n",
       "      <td>Ripe</td>\n",
       "      <td>[Drama, Coming of age, Indie]</td>\n",
       "      <td>[(Drama,)]</td>\n",
       "    </tr>\n",
       "    <tr>\n",
       "      <th>9937</th>\n",
       "      <td>Cheyenne Autumn</td>\n",
       "      <td>[Action/Adventure, Epic Western, Indian Western, Western]</td>\n",
       "      <td>[()]</td>\n",
       "    </tr>\n",
       "    <tr>\n",
       "      <th>41900</th>\n",
       "      <td>The Shiralee</td>\n",
       "      <td>[Drama]</td>\n",
       "      <td>[(Drama,)]</td>\n",
       "    </tr>\n",
       "    <tr>\n",
       "      <th>35573</th>\n",
       "      <td>Now You Know</td>\n",
       "      <td>[Romantic comedy, Romance Film, Indie, Comedy]</td>\n",
       "      <td>[(Comedy,)]</td>\n",
       "    </tr>\n",
       "    <tr>\n",
       "      <th>14996</th>\n",
       "      <td>They Made Me a Criminal</td>\n",
       "      <td>[Drama, Social problem film, Black-and-white]</td>\n",
       "      <td>[(Drama,)]</td>\n",
       "    </tr>\n",
       "    <tr>\n",
       "      <th>32459</th>\n",
       "      <td>Sesham</td>\n",
       "      <td>[Drama]</td>\n",
       "      <td>[(Drama,)]</td>\n",
       "    </tr>\n",
       "    <tr>\n",
       "      <th>10641</th>\n",
       "      <td>Grounded on 9/11</td>\n",
       "      <td>[Documentary]</td>\n",
       "      <td>[()]</td>\n",
       "    </tr>\n",
       "    <tr>\n",
       "      <th>32355</th>\n",
       "      <td>Half a Sinner</td>\n",
       "      <td>[Thriller, Comedy]</td>\n",
       "      <td>[(Drama,)]</td>\n",
       "    </tr>\n",
       "    <tr>\n",
       "      <th>23803</th>\n",
       "      <td>The Spirit</td>\n",
       "      <td>[Crime Fiction, Thriller, Detective, Superhero movie, Action/Adventure, Satire, Fantasy, Comedy, Action]</td>\n",
       "      <td>[()]</td>\n",
       "    </tr>\n",
       "    <tr>\n",
       "      <th>27436</th>\n",
       "      <td>The Caller</td>\n",
       "      <td>[Thriller]</td>\n",
       "      <td>[(Thriller,)]</td>\n",
       "    </tr>\n",
       "    <tr>\n",
       "      <th>16779</th>\n",
       "      <td>Hobson's Choice</td>\n",
       "      <td>[Drama, Comedy]</td>\n",
       "      <td>[(Drama, Romance Film)]</td>\n",
       "    </tr>\n",
       "  </tbody>\n",
       "</table>\n",
       "</div>"
      ],
      "text/plain": [
       "                         title  \\\n",
       "31398            Pass the Ammo   \n",
       "15464              Being Human   \n",
       "38165         A Date With Judy   \n",
       "22670       4th Period Mystery   \n",
       "9315                 Open Fire   \n",
       "12534           Losing Balance   \n",
       "19731             Soldier Blue   \n",
       "21829  Three Steps in the Dark   \n",
       "29204                Amar Prem   \n",
       "38687                     Ripe   \n",
       "9937           Cheyenne Autumn   \n",
       "41900             The Shiralee   \n",
       "35573             Now You Know   \n",
       "14996  They Made Me a Criminal   \n",
       "32459                   Sesham   \n",
       "10641         Grounded on 9/11   \n",
       "32355            Half a Sinner   \n",
       "23803               The Spirit   \n",
       "27436               The Caller   \n",
       "16779          Hobson's Choice   \n",
       "\n",
       "                                                                                                                     genres  \\\n",
       "31398                                                                                              [Parody, Satire, Comedy]   \n",
       "15464                                                                             [Drama, Fantasy, Comedy, Japanese Movies]   \n",
       "38165                                                                                     [Musical, Comedy, Musical comedy]   \n",
       "22670                                                                                                            [Thriller]   \n",
       "9315                                                                                                               [Action]   \n",
       "12534                                                                                                [Drama, Coming of age]   \n",
       "19731  [Historical fiction, War film, Period piece, Action/Adventure, Revisionist Western, Western, Drama, Film adaptation]   \n",
       "21829                                                                                                [Crime Fiction, Drama]   \n",
       "29204                                    [Melodrama, World cinema, Musical, Drama, Romantic drama, Romance Film, Bollywood]   \n",
       "38687                                                                                         [Drama, Coming of age, Indie]   \n",
       "9937                                                              [Action/Adventure, Epic Western, Indian Western, Western]   \n",
       "41900                                                                                                               [Drama]   \n",
       "35573                                                                        [Romantic comedy, Romance Film, Indie, Comedy]   \n",
       "14996                                                                         [Drama, Social problem film, Black-and-white]   \n",
       "32459                                                                                                               [Drama]   \n",
       "10641                                                                                                         [Documentary]   \n",
       "32355                                                                                                    [Thriller, Comedy]   \n",
       "23803              [Crime Fiction, Thriller, Detective, Superhero movie, Action/Adventure, Satire, Fantasy, Comedy, Action]   \n",
       "27436                                                                                                            [Thriller]   \n",
       "16779                                                                                                       [Drama, Comedy]   \n",
       "\n",
       "                                                   predicted  \n",
       "31398                                            [(Comedy,)]  \n",
       "15464                                             [(Drama,)]  \n",
       "38165                               [(Comedy, Romance Film)]  \n",
       "22670                                             [(Drama,)]  \n",
       "9315   [(Action, Action/Adventure, Crime Fiction, Thriller)]  \n",
       "12534                                             [(Drama,)]  \n",
       "19731                          [(Action/Adventure, Western)]  \n",
       "21829                                     [(Drama, Mystery)]  \n",
       "29204                                [(Drama, Romance Film)]  \n",
       "38687                                             [(Drama,)]  \n",
       "9937                                                    [()]  \n",
       "41900                                             [(Drama,)]  \n",
       "35573                                            [(Comedy,)]  \n",
       "14996                                             [(Drama,)]  \n",
       "32459                                             [(Drama,)]  \n",
       "10641                                                   [()]  \n",
       "32355                                             [(Drama,)]  \n",
       "23803                                                   [()]  \n",
       "27436                                          [(Thriller,)]  \n",
       "16779                                [(Drama, Romance Film)]  "
      ]
     },
     "execution_count": 19,
     "metadata": {},
     "output_type": "execute_result"
    }
   ],
   "source": [
    "n = 20\n",
    "sample = xval.sample(n).index[:n]\n",
    "\n",
    "df_results = pd.DataFrame({\n",
    "    'title': df['title'][sample],\n",
    "    'genres': df['genres'][sample],\n",
    "    'predicted': ''\n",
    "    })\n",
    "\n",
    "for i, row in df_results.iterrows():\n",
    "    row['predicted'] = infer_tags(xval[i])\n",
    "\n",
    "df_results"
   ]
  }
 ],
 "metadata": {
  "interpreter": {
   "hash": "6331c55575620c9120a3df92456d8d2d3a37aa30021015ffc2536ee6df0b250b"
  },
  "kernelspec": {
   "display_name": "Python 3.9.7 64-bit ('.venv': venv)",
   "language": "python",
   "name": "python3"
  },
  "language_info": {
   "codemirror_mode": {
    "name": "ipython",
    "version": 3
   },
   "file_extension": ".py",
   "mimetype": "text/x-python",
   "name": "python",
   "nbconvert_exporter": "python",
   "pygments_lexer": "ipython3",
   "version": "3.9.7"
  },
  "orig_nbformat": 4
 },
 "nbformat": 4,
 "nbformat_minor": 2
}
